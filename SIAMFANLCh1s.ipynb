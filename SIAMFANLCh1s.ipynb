{
 "cells": [
  {
   "cell_type": "markdown",
   "metadata": {},
   "source": [
    "$\n",
    "\\newcommand{\\calf}{{\\cal F}}\n",
    "\\newcommand{\\dnu}{d \\nu}\n",
    "\\newcommand{\\mf}{{\\bf F}}\n",
    "\\newcommand{\\vu}{{\\bf u}}\n",
    "\\newcommand{\\vx}{{\\bf x}}\n",
    "\\newcommand{\\vy}{{\\bf y}}\n",
    "\\newcommand{\\vs}{{\\bf s}}\n",
    "\\newcommand{\\ve}{{\\bf e}}\n",
    "\\newcommand{\\vd}{{\\bf d}}\n",
    "\\newcommand{\\mg}{{\\bf G}}\n",
    "\\newcommand{\\ml}{{\\bf L}}\n",
    "\\newcommand{\\mg}{{\\bf G}}\n",
    "\\newcommand{\\mv}{{\\bf V}}\n",
    "\\newcommand{\\ma}{{\\bf A}}\n",
    "\\newcommand{\\mi}{{\\bf I}}\n",
    "\\newcommand{\\mm}{{\\bf M}}\n",
    "\\newcommand{\\ball}{{\\cal B}}\n",
    "\\newcommand{\\ptc}{{\\Psi TC}}\n",
    "\\newcommand{\\diag}{\\mbox{diag}}\n",
    "$"
   ]
  },
  {
   "cell_type": "code",
   "execution_count": 1,
   "metadata": {},
   "outputs": [],
   "source": [
    "include(\"fanote_init.jl\")"
   ]
  },
  {
   "cell_type": "markdown",
   "metadata": {},
   "source": [
    "## Section 1.10 Solvers for Chapter 1\n",
    "\n",
    "Contents for Section 1.10\n",
    "\n",
    "[Overview](#Overview)\n",
    "\n",
    "[nsolsc.jl](#nsolsc.jl)\n",
    "\n",
    "[secant.jl](#secant.jl)\n",
    "\n",
    "[ptcsolsc.jl](#ptcsolsc.jl)\n",
    "\n",
    "[Section 1.11: Projects](#Section-1.11-Projects)\n"
   ]
  },
  {
   "cell_type": "markdown",
   "metadata": {},
   "source": [
    "### Overview"
   ]
  },
  {
   "cell_type": "markdown",
   "metadata": {},
   "source": [
    "We provide three solvers for this chapter. __nsolsc.jl__ is a scalar Newton code and __ptcsolsc.jl__ is a scalar pseudo-transient continuation solver. These scalar codes are simply wrappers for the general codes __nsol.jl__\n",
    "and __ptcsol.jl__. We also include __secant.jl__, which is the secant method for scalar equations. \n",
    "\n",
    "Their calling sequences and the tuples they return are very similar to all the codes from this book. All our solvers return a tuple with the solution, the history of the iteration, flags for success or failure, and (optionally) the entire history of the solution. \n",
    "\n",
    "We will continue\n",
    "this pattern for the entire book, discussing theory and algorithms at the\n",
    "beginning of each chapter together with a few examples. In the notebook\n",
    "section we will cover the software in more detail and go deeper into\n",
    "examples.\n",
    "\n",
    "The solution history for scalar equations is small and returning it is the default. In the later chapters on systems of equations, we do not return the solution history by default and discourage your asking for it. The solution history might take a lot of space to store and also, especially in Julia, have a severe penalty for allocations."
   ]
  },
  {
   "cell_type": "markdown",
   "metadata": {},
   "source": [
    "## Section 1.10.1: Newton's method\n",
    "\n",
    "### nsolsc.jl"
   ]
  },
  {
   "cell_type": "markdown",
   "metadata": {},
   "source": [
    "__nsolsc.jl__ is the scalar Newton solver. We will begin, as we will in all the software sections, by looking at the documentation (docstrings) in the code."
   ]
  },
  {
   "cell_type": "code",
   "execution_count": 2,
   "metadata": {},
   "outputs": [
    {
     "name": "stdout",
     "output_type": "stream",
     "text": [
      "search: \u001b[0m\u001b[1mn\u001b[22m\u001b[0m\u001b[1ms\u001b[22m\u001b[0m\u001b[1mo\u001b[22m\u001b[0m\u001b[1ml\u001b[22m\u001b[0m\u001b[1ms\u001b[22m\u001b[0m\u001b[1mc\u001b[22m \u001b[0m\u001b[1mn\u001b[22m\u001b[0m\u001b[1ms\u001b[22m\u001b[0m\u001b[1mo\u001b[22m\u001b[0m\u001b[1ml\u001b[22m \u001b[0m\u001b[1mn\u001b[22m\u001b[0m\u001b[1ms\u001b[22m\u001b[0m\u001b[1mo\u001b[22m\u001b[0m\u001b[1ml\u001b[22mi ptcsolsc \u001b[0m\u001b[1mn\u001b[22m\u001b[0m\u001b[1ms\u001b[22m\u001b[0m\u001b[1mo\u001b[22m\u001b[0m\u001b[1ml\u001b[22mheq cosc\n",
      "\n"
     ]
    },
    {
     "data": {
      "text/latex": [
       "nsolsc(f,x0, fp=difffp; rtol=1.e-6, atol=1.e-12, maxit=10,         solver=\"newton\", sham=1, armmax=10, resdec=.1, dx=1.e-7,         armfix=false, pdata=nothing,         printerr=true, keepsolhist=true, stagnationok=false)\n",
       "\n",
       "C. T. Kelley, 2022\n",
       "\n",
       "Newton's method for scalar equations. Has most of the features a code for systems of equations needs. This is a wrapper for a call to nsol.jl, the real code for systems. \n",
       "\n",
       "Input:\n",
       "\n",
       "f: function\n",
       "\n",
       "x0: initial iterate\n",
       "\n",
       "fp: derivative. If your derivative function is fp, you give me its name. For example fp=foobar tells me that foobar is your function for the derivative. The default is a forward difference Jacobian that I provide.\n",
       "\n",
       "Keyword Arguments (kwargs):\n",
       "\n",
       "rtol, atol: real and absolute error tolerances\n",
       "\n",
       "maxit: upper bound on number of nonlinear iterations\n",
       "\n",
       "solver:\n",
       "\n",
       "Your choices are \"newton\"(default) or \"chord\". However,  you have sham at your disposal only if you choose newton. \"chord\" will keep using the initial derivative until the iterate converges, uses the iteration budget, or the line search fails. It is not the same as sham=Inf, which is smarter.\n",
       "\n",
       "If you use secant and your initial iterate is poor, you have made a mistake. I will help you by driving the line search with a finite difference derivative.\n",
       "\n",
       "sham:\n",
       "\n",
       "This is the Shamanskii method. If sham=1, you have Newton. The iteration updates the derivative every sham iterations. The convergence rate has local q-order sham+1 if you only count iterations where you update the derivative. You need not provide your own derivative function to use this option. sham=Inf is chord only if chord is converging well.\n",
       "\n",
       "armmax: upper bound on stepsize reductions in linesearch\n",
       "\n",
       "resdec: target value for residual reduction. \n",
       "\n",
       "The default value is .1. In the old MATLAB codes it was .5. I only turn Shamanskii on if the residuals are decreasing rapidly, at least a factor of resdec, and the line search is quiescent. If you want to eliminate resdec from the method ( you don't ) then set resdec = 1.0 and you will never hear from it again.  \n",
       "\n",
       "dx:\n",
       "\n",
       "This is the increment for forward difference, default = 1.e-7. dx should be roughly the square root of the noise in the function.\n",
       "\n",
       "armfix:\n",
       "\n",
       "The default is a parabolic line search (ie false). Set to true and the stepsize will be fixed at .5. Don't do this unless you are doing experiments for research.\n",
       "\n",
       "pdata:\n",
       "\n",
       "precomputed data for the function/derivative. Things will go better if you use this rather than hide the data in global variables within the module for your function/derivative If you use this option your function and derivative must take pdata as a second argument. eg f(x,pdata) and fp(x,pdata)\n",
       "\n",
       "printerr:\n",
       "\n",
       "I print a helpful message when the solver fails. To suppress that message set printerr to false.\n",
       "\n",
       "keepsolhist:\n",
       "\n",
       "Set this to true to get the history of the iteration in the output tuple. This is on by default for scalar equations and off for systems. Only turn it on if you have use for the data, which can get REALLY LARGE.\n",
       "\n",
       "stagnationok:\n",
       "\n",
       "Set this to true if you want to disable the line search and either observe divergence or stagnation. This is only useful for research or writing a book.\n",
       "\n",
       "Output:\n",
       "\n",
       "A named tuple (solution, functionval, history, stats, idid,                errcode, solhist) where\n",
       "\n",
       "solution = converged result functionval = F(solution) history = the vector of residual norms (||F(x)||) for the iteration stats = named tuple of the history of (ifun, ijac, iarm), the number of functions/derivatives/steplength reductions at each iteration.\n",
       "\n",
       "I do not count the function values for a finite-difference derivative because they count toward a Jacobian evaluation. I do count them for the secant method model.\n",
       "\n",
       "idid=true if the iteration succeeded and false if not.\n",
       "\n",
       "errcode = 0 if if the iteration succeeded         = -1 if the initial iterate satisfies the termination criteria         = 10 if no convergence after maxit iterations         = 1  if the line search failed\n",
       "\n",
       "solhist:\n",
       "\n",
       "This is the entire history of the iteration if you've set keepsolhist=true\n",
       "\n",
       "nsolsc builds solhist with a function from the Tools directory. For systems, solhist is an N x K array where N is the length of x and K  is the number of iteration + 1. So, for scalar equations (N=1), solhist is a row vector. Hence the use of solhist' in the example below.\n",
       "\n",
       "\\subsubsection{Examples for nsolsc.jl}\n",
       "\\begin{verbatim}\n",
       "julia> nsolout=nsolsc(atan,1.0;maxit=5,atol=1.e-12,rtol=1.e-12);\n",
       "\n",
       "julia> nsolout.history\n",
       "6-element Array{Float64,1}:\n",
       " 7.85398e-01\n",
       " 5.18669e-01\n",
       " 1.16332e-01\n",
       " 1.06102e-03\n",
       " 7.96200e-10\n",
       " 2.79173e-24\n",
       "\\end{verbatim}\n",
       "\\section{If you have an analytic derivative, I will use it.}\n",
       "\\begin{verbatim}\n",
       "julia> fs(x)=x^2-4.0; fsp(x)=2x;\n",
       "\n",
       "julia> nsolout=nsolsc(fs,1.0,fsp; maxit=5,atol=1.e-9,rtol=1.e-9);\n",
       "\n",
       "julia> [nsolout.solhist'.-2 nsolout.history]\n",
       "6×2 Array{Float64,2}:\n",
       " -1.00000e+00  3.00000e+00\n",
       "  5.00000e-01  2.25000e+00\n",
       "  5.00000e-02  2.02500e-01\n",
       "  6.09756e-04  2.43940e-03\n",
       "  9.29223e-08  3.71689e-07\n",
       "  2.22045e-15  8.88178e-15\n",
       "\n",
       "\\end{verbatim}\n",
       "\\section{You can also use anonymous functions}\n",
       "\\begin{verbatim}\n",
       "julia> nsolout=nsolsc(atan,10.0,x -> 1.0/(1.0+x^2); \n",
       "atol=1.e-9,rtol=1.e-9);\n",
       "\n",
       "julia> nsolout.history\n",
       "8-element Vector{Float64}:\n",
       " 1.47113e+00\n",
       " 1.19982e+00\n",
       " 1.10593e+00\n",
       " 6.48297e-01\n",
       " 2.56983e-01\n",
       " 1.19361e-02\n",
       " 1.13383e-06\n",
       " 9.71970e-19\n",
       "\\end{verbatim}\n"
      ],
      "text/markdown": [
       "nsolsc(f,x0, fp=difffp; rtol=1.e-6, atol=1.e-12, maxit=10,         solver=\"newton\", sham=1, armmax=10, resdec=.1, dx=1.e-7,         armfix=false, pdata=nothing,         printerr=true, keepsolhist=true, stagnationok=false)\n",
       "\n",
       "C. T. Kelley, 2022\n",
       "\n",
       "Newton's method for scalar equations. Has most of the features a code for systems of equations needs. This is a wrapper for a call to nsol.jl, the real code for systems. \n",
       "\n",
       "Input:\n",
       "\n",
       "f: function\n",
       "\n",
       "x0: initial iterate\n",
       "\n",
       "fp: derivative. If your derivative function is fp, you give me its name. For example fp=foobar tells me that foobar is your function for the derivative. The default is a forward difference Jacobian that I provide.\n",
       "\n",
       "Keyword Arguments (kwargs):\n",
       "\n",
       "rtol, atol: real and absolute error tolerances\n",
       "\n",
       "maxit: upper bound on number of nonlinear iterations\n",
       "\n",
       "solver:\n",
       "\n",
       "Your choices are \"newton\"(default) or \"chord\". However,  you have sham at your disposal only if you choose newton. \"chord\" will keep using the initial derivative until the iterate converges, uses the iteration budget, or the line search fails. It is not the same as sham=Inf, which is smarter.\n",
       "\n",
       "If you use secant and your initial iterate is poor, you have made a mistake. I will help you by driving the line search with a finite difference derivative.\n",
       "\n",
       "sham:\n",
       "\n",
       "This is the Shamanskii method. If sham=1, you have Newton. The iteration updates the derivative every sham iterations. The convergence rate has local q-order sham+1 if you only count iterations where you update the derivative. You need not provide your own derivative function to use this option. sham=Inf is chord only if chord is converging well.\n",
       "\n",
       "armmax: upper bound on stepsize reductions in linesearch\n",
       "\n",
       "resdec: target value for residual reduction. \n",
       "\n",
       "The default value is .1. In the old MATLAB codes it was .5. I only turn Shamanskii on if the residuals are decreasing rapidly, at least a factor of resdec, and the line search is quiescent. If you want to eliminate resdec from the method ( you don't ) then set resdec = 1.0 and you will never hear from it again.  \n",
       "\n",
       "dx:\n",
       "\n",
       "This is the increment for forward difference, default = 1.e-7. dx should be roughly the square root of the noise in the function.\n",
       "\n",
       "armfix:\n",
       "\n",
       "The default is a parabolic line search (ie false). Set to true and the stepsize will be fixed at .5. Don't do this unless you are doing experiments for research.\n",
       "\n",
       "pdata:\n",
       "\n",
       "precomputed data for the function/derivative. Things will go better if you use this rather than hide the data in global variables within the module for your function/derivative If you use this option your function and derivative must take pdata as a second argument. eg f(x,pdata) and fp(x,pdata)\n",
       "\n",
       "printerr:\n",
       "\n",
       "I print a helpful message when the solver fails. To suppress that message set printerr to false.\n",
       "\n",
       "keepsolhist:\n",
       "\n",
       "Set this to true to get the history of the iteration in the output tuple. This is on by default for scalar equations and off for systems. Only turn it on if you have use for the data, which can get REALLY LARGE.\n",
       "\n",
       "stagnationok:\n",
       "\n",
       "Set this to true if you want to disable the line search and either observe divergence or stagnation. This is only useful for research or writing a book.\n",
       "\n",
       "Output:\n",
       "\n",
       "A named tuple (solution, functionval, history, stats, idid,                errcode, solhist) where\n",
       "\n",
       "solution = converged result functionval = F(solution) history = the vector of residual norms (||F(x)||) for the iteration stats = named tuple of the history of (ifun, ijac, iarm), the number of functions/derivatives/steplength reductions at each iteration.\n",
       "\n",
       "I do not count the function values for a finite-difference derivative because they count toward a Jacobian evaluation. I do count them for the secant method model.\n",
       "\n",
       "idid=true if the iteration succeeded and false if not.\n",
       "\n",
       "errcode = 0 if if the iteration succeeded         = -1 if the initial iterate satisfies the termination criteria         = 10 if no convergence after maxit iterations         = 1  if the line search failed\n",
       "\n",
       "solhist:\n",
       "\n",
       "This is the entire history of the iteration if you've set keepsolhist=true\n",
       "\n",
       "nsolsc builds solhist with a function from the Tools directory. For systems, solhist is an N x K array where N is the length of x and K  is the number of iteration + 1. So, for scalar equations (N=1), solhist is a row vector. Hence the use of solhist' in the example below.\n",
       "\n",
       "### Examples for nsolsc.jl\n",
       "\n",
       "```jldoctest\n",
       "julia> nsolout=nsolsc(atan,1.0;maxit=5,atol=1.e-12,rtol=1.e-12);\n",
       "\n",
       "julia> nsolout.history\n",
       "6-element Array{Float64,1}:\n",
       " 7.85398e-01\n",
       " 5.18669e-01\n",
       " 1.16332e-01\n",
       " 1.06102e-03\n",
       " 7.96200e-10\n",
       " 2.79173e-24\n",
       "```\n",
       "\n",
       "# If you have an analytic derivative, I will use it.\n",
       "\n",
       "```jldoctest\n",
       "julia> fs(x)=x^2-4.0; fsp(x)=2x;\n",
       "\n",
       "julia> nsolout=nsolsc(fs,1.0,fsp; maxit=5,atol=1.e-9,rtol=1.e-9);\n",
       "\n",
       "julia> [nsolout.solhist'.-2 nsolout.history]\n",
       "6×2 Array{Float64,2}:\n",
       " -1.00000e+00  3.00000e+00\n",
       "  5.00000e-01  2.25000e+00\n",
       "  5.00000e-02  2.02500e-01\n",
       "  6.09756e-04  2.43940e-03\n",
       "  9.29223e-08  3.71689e-07\n",
       "  2.22045e-15  8.88178e-15\n",
       "\n",
       "```\n",
       "\n",
       "# You can also use anonymous functions\n",
       "\n",
       "```jldoctest\n",
       "julia> nsolout=nsolsc(atan,10.0,x -> 1.0/(1.0+x^2); \n",
       "atol=1.e-9,rtol=1.e-9);\n",
       "\n",
       "julia> nsolout.history\n",
       "8-element Vector{Float64}:\n",
       " 1.47113e+00\n",
       " 1.19982e+00\n",
       " 1.10593e+00\n",
       " 6.48297e-01\n",
       " 2.56983e-01\n",
       " 1.19361e-02\n",
       " 1.13383e-06\n",
       " 9.71970e-19\n",
       "```\n"
      ],
      "text/plain": [
       "  nsolsc(f,x0, fp=difffp; rtol=1.e-6, atol=1.e-12, maxit=10, solver=\"newton\",\n",
       "  sham=1, armmax=10, resdec=.1, dx=1.e-7, armfix=false, pdata=nothing,\n",
       "  printerr=true, keepsolhist=true, stagnationok=false)\n",
       "\n",
       "  C. T. Kelley, 2022\n",
       "\n",
       "  Newton's method for scalar equations. Has most of the features a code for\n",
       "  systems of equations needs. This is a wrapper for a call to nsol.jl, the\n",
       "  real code for systems.\n",
       "\n",
       "  Input:\n",
       "\n",
       "  f: function\n",
       "\n",
       "  x0: initial iterate\n",
       "\n",
       "  fp: derivative. If your derivative function is fp, you give me its name. For\n",
       "  example fp=foobar tells me that foobar is your function for the derivative.\n",
       "  The default is a forward difference Jacobian that I provide.\n",
       "\n",
       "  Keyword Arguments (kwargs):\n",
       "\n",
       "  rtol, atol: real and absolute error tolerances\n",
       "\n",
       "  maxit: upper bound on number of nonlinear iterations\n",
       "\n",
       "  solver:\n",
       "\n",
       "  Your choices are \"newton\"(default) or \"chord\". However, you have sham at\n",
       "  your disposal only if you choose newton. \"chord\" will keep using the initial\n",
       "  derivative until the iterate converges, uses the iteration budget, or the\n",
       "  line search fails. It is not the same as sham=Inf, which is smarter.\n",
       "\n",
       "  If you use secant and your initial iterate is poor, you have made a mistake.\n",
       "  I will help you by driving the line search with a finite difference\n",
       "  derivative.\n",
       "\n",
       "  sham:\n",
       "\n",
       "  This is the Shamanskii method. If sham=1, you have Newton. The iteration\n",
       "  updates the derivative every sham iterations. The convergence rate has local\n",
       "  q-order sham+1 if you only count iterations where you update the derivative.\n",
       "  You need not provide your own derivative function to use this option.\n",
       "  sham=Inf is chord only if chord is converging well.\n",
       "\n",
       "  armmax: upper bound on stepsize reductions in linesearch\n",
       "\n",
       "  resdec: target value for residual reduction.\n",
       "\n",
       "  The default value is .1. In the old MATLAB codes it was .5. I only turn\n",
       "  Shamanskii on if the residuals are decreasing rapidly, at least a factor of\n",
       "  resdec, and the line search is quiescent. If you want to eliminate resdec\n",
       "  from the method ( you don't ) then set resdec = 1.0 and you will never hear\n",
       "  from it again.\n",
       "\n",
       "  dx:\n",
       "\n",
       "  This is the increment for forward difference, default = 1.e-7. dx should be\n",
       "  roughly the square root of the noise in the function.\n",
       "\n",
       "  armfix:\n",
       "\n",
       "  The default is a parabolic line search (ie false). Set to true and the\n",
       "  stepsize will be fixed at .5. Don't do this unless you are doing experiments\n",
       "  for research.\n",
       "\n",
       "  pdata:\n",
       "\n",
       "  precomputed data for the function/derivative. Things will go better if you\n",
       "  use this rather than hide the data in global variables within the module for\n",
       "  your function/derivative If you use this option your function and derivative\n",
       "  must take pdata as a second argument. eg f(x,pdata) and fp(x,pdata)\n",
       "\n",
       "  printerr:\n",
       "\n",
       "  I print a helpful message when the solver fails. To suppress that message\n",
       "  set printerr to false.\n",
       "\n",
       "  keepsolhist:\n",
       "\n",
       "  Set this to true to get the history of the iteration in the output tuple.\n",
       "  This is on by default for scalar equations and off for systems. Only turn it\n",
       "  on if you have use for the data, which can get REALLY LARGE.\n",
       "\n",
       "  stagnationok:\n",
       "\n",
       "  Set this to true if you want to disable the line search and either observe\n",
       "  divergence or stagnation. This is only useful for research or writing a\n",
       "  book.\n",
       "\n",
       "  Output:\n",
       "\n",
       "  A named tuple (solution, functionval, history, stats, idid, errcode,\n",
       "  solhist) where\n",
       "\n",
       "  solution = converged result functionval = F(solution) history = the vector\n",
       "  of residual norms (||F(x)||) for the iteration stats = named tuple of the\n",
       "  history of (ifun, ijac, iarm), the number of\n",
       "  functions/derivatives/steplength reductions at each iteration.\n",
       "\n",
       "  I do not count the function values for a finite-difference derivative\n",
       "  because they count toward a Jacobian evaluation. I do count them for the\n",
       "  secant method model.\n",
       "\n",
       "  idid=true if the iteration succeeded and false if not.\n",
       "\n",
       "  errcode = 0 if if the iteration succeeded = -1 if the initial iterate\n",
       "  satisfies the termination criteria = 10 if no convergence after maxit\n",
       "  iterations = 1 if the line search failed\n",
       "\n",
       "  solhist:\n",
       "\n",
       "  This is the entire history of the iteration if you've set keepsolhist=true\n",
       "\n",
       "  nsolsc builds solhist with a function from the Tools directory. For systems,\n",
       "  solhist is an N x K array where N is the length of x and K is the number of\n",
       "  iteration + 1. So, for scalar equations (N=1), solhist is a row vector.\n",
       "  Hence the use of solhist' in the example below.\n",
       "\n",
       "\u001b[1m  Examples for nsolsc.jl\u001b[22m\n",
       "\u001b[1m  ––––––––––––––––––––––\u001b[22m\n",
       "\n",
       "\u001b[36m  julia> nsolout=nsolsc(atan,1.0;maxit=5,atol=1.e-12,rtol=1.e-12);\u001b[39m\n",
       "\u001b[36m  \u001b[39m\n",
       "\u001b[36m  julia> nsolout.history\u001b[39m\n",
       "\u001b[36m  6-element Array{Float64,1}:\u001b[39m\n",
       "\u001b[36m   7.85398e-01\u001b[39m\n",
       "\u001b[36m   5.18669e-01\u001b[39m\n",
       "\u001b[36m   1.16332e-01\u001b[39m\n",
       "\u001b[36m   1.06102e-03\u001b[39m\n",
       "\u001b[36m   7.96200e-10\u001b[39m\n",
       "\u001b[36m   2.79173e-24\u001b[39m\n",
       "\n",
       "\u001b[1m  If you have an analytic derivative, I will use it.\u001b[22m\n",
       "\u001b[1m  ≡≡≡≡≡≡≡≡≡≡≡≡≡≡≡≡≡≡≡≡≡≡≡≡≡≡≡≡≡≡≡≡≡≡≡≡≡≡≡≡≡≡≡≡≡≡≡≡≡≡\u001b[22m\n",
       "\n",
       "\u001b[36m  julia> fs(x)=x^2-4.0; fsp(x)=2x;\u001b[39m\n",
       "\u001b[36m  \u001b[39m\n",
       "\u001b[36m  julia> nsolout=nsolsc(fs,1.0,fsp; maxit=5,atol=1.e-9,rtol=1.e-9);\u001b[39m\n",
       "\u001b[36m  \u001b[39m\n",
       "\u001b[36m  julia> [nsolout.solhist'.-2 nsolout.history]\u001b[39m\n",
       "\u001b[36m  6×2 Array{Float64,2}:\u001b[39m\n",
       "\u001b[36m   -1.00000e+00  3.00000e+00\u001b[39m\n",
       "\u001b[36m    5.00000e-01  2.25000e+00\u001b[39m\n",
       "\u001b[36m    5.00000e-02  2.02500e-01\u001b[39m\n",
       "\u001b[36m    6.09756e-04  2.43940e-03\u001b[39m\n",
       "\u001b[36m    9.29223e-08  3.71689e-07\u001b[39m\n",
       "\u001b[36m    2.22045e-15  8.88178e-15\u001b[39m\n",
       "\u001b[36m  \u001b[39m\n",
       "\n",
       "\u001b[1m  You can also use anonymous functions\u001b[22m\n",
       "\u001b[1m  ≡≡≡≡≡≡≡≡≡≡≡≡≡≡≡≡≡≡≡≡≡≡≡≡≡≡≡≡≡≡≡≡≡≡≡≡\u001b[22m\n",
       "\n",
       "\u001b[36m  julia> nsolout=nsolsc(atan,10.0,x -> 1.0/(1.0+x^2); \u001b[39m\n",
       "\u001b[36m  atol=1.e-9,rtol=1.e-9);\u001b[39m\n",
       "\u001b[36m  \u001b[39m\n",
       "\u001b[36m  julia> nsolout.history\u001b[39m\n",
       "\u001b[36m  8-element Vector{Float64}:\u001b[39m\n",
       "\u001b[36m   1.47113e+00\u001b[39m\n",
       "\u001b[36m   1.19982e+00\u001b[39m\n",
       "\u001b[36m   1.10593e+00\u001b[39m\n",
       "\u001b[36m   6.48297e-01\u001b[39m\n",
       "\u001b[36m   2.56983e-01\u001b[39m\n",
       "\u001b[36m   1.19361e-02\u001b[39m\n",
       "\u001b[36m   1.13383e-06\u001b[39m\n",
       "\u001b[36m   9.71970e-19\u001b[39m"
      ]
     },
     "execution_count": 2,
     "metadata": {},
     "output_type": "execute_result"
    }
   ],
   "source": [
    "? nsolsc"
   ]
  },
  {
   "cell_type": "markdown",
   "metadata": {},
   "source": [
    "\n",
    "\n",
    "#### Input\n",
    "\n",
    "\n",
    "Let's begin with the calling sequence for the solver.\n",
    "\n",
    "```julia\n",
    "function nsolsc(\n",
    "    f,\n",
    "    x0,\n",
    "    fp = difffp;\n",
    "    rtol = 1.e-6,\n",
    "    atol = 1.e-12,\n",
    "    maxit = 10,\n",
    "    solver = \"newton\",\n",
    "    sham = 1,\n",
    "    armmax = 5,\n",
    "    resdec = 0.1,\n",
    "    dx = 1.e-7,\n",
    "    armfix = false,\n",
    "    pdata = nothing,\n",
    "    printerr = true,\n",
    "    keepsolhist = true,\n",
    "    stagnationok = false,\n",
    ")\n",
    "```\n",
    "\n",
    "The arguments before the semicolon are required except for the function that evaluates the derivative. If you leave it out, __nsolsc__ defaults to a forward difference approximation.\n",
    "We are solving $f(x) = 0$ and the solver needs $f$ and the initial iterate $x$. The arguments after the semicolon are __keyword arguments__, usually referred to as __kwargs__, which is not a German cheese product. The semicolon is __very useful__. You may leave it out in recent versions of Julia, but it is good practice to leave it in\n",
    "to remind yourself about which arguments are optional and which are not.\n",
    "The good news about kwargs is that you may use any of them without worrying about the others, which will take their default values. So\n",
    "\n",
    "```julia\n",
    "nsolout0 = nsolsc(atan, 1.0)\n",
    "\n",
    "nsolout1=nsolsc(atan, 3.0; sham=2, resdec=.5)\n",
    "```\n",
    "are all correct.\n",
    "\n",
    "\n",
    "You have seen many of the kwargs before. The relative and absolute error tolerances, the solver, the parameters\n",
    "for the Shamanskii method and line search should be familiar. The new things are __resedec__, __dx__, __armfix__, __pdata__, __printerr__, and __keepsolshist__. For example, the derivative is updated every __sham__ iteration. The default for Newton's method is sham=1 for scalar equations. We do something else for systems and will explain that in [Chapter 2](SIAMFANLCh2.ipynb).\n",
    "\n",
    "\n",
    "The default for derivative evaluation is a forward difference derivative with different increment \n",
    "$h= dx*|x|+10^{-8}$. That is an internal function __difffp__.\n",
    "If you have an analytic derivative, say __fpanal.jl__, then set fp=fpanal and the solver will use your derivative.\n",
    "\n",
    " We have mentioned the solution history before. Please leave __keepsolhist__ alone unless there's a good reason to change it. It is set to true for scalar codes and false for\n",
    "the solvers in the following chapters.\n",
    "\n",
    "We use the kwarg __resdec__ to manage Shamanskii iterations. In this scalar code, it is used for some examples and to prepare you for its more serious use in the codes for systems of equations. In __nsolsc.jl__ the default solver is Newton's method (so sham=1). Newton with sham=2 is the Shamanskii method with a derivative update every two iterations. \n",
    "__But__ we safeguard the skipping of the update by doing the update anyhow if (1) the line search fails on the first attempt (ie with step length = 1) or (2) the residual decrease is more than resdec. If you want to eliminate the second of these, set resdec = 1.\n",
    "\n",
    "The only exception to the first criterion is the chord method. If you set```solver=\"chord\"```, then you will get the chord method. That's in there for research and a few internal tests of the code. \n",
    "If you set ```sham=Inf```, then you'll get the chord method with derivative updates when a step length of 1 fails to produce sufficient decrease or the reduction in residuals is not enough.\n",
    "\n",
    "With the secant method, we compute the secant approximation to the derivative with every iteration. If the secant iterations are far apart, the approximation can be poor and the line search can fail. This is a risk you assume with all secant methods.\n",
    "\n",
    "__pdata__ is optional precomputed data for $f$. This becomes important in the subsequent chapters, where we will give many examples.  \n",
    "\n",
    "__printerr__ = false turns off error messages.  \n"
   ]
  },
  {
   "cell_type": "markdown",
   "metadata": {},
   "source": [
    "#### Output\n",
    "\n",
    "The output of all the solvers is a tuple. This is a data structure in Julia that can pack different structures (including more tuples) in a single data structure. It's a good way to manage complex output.\n",
    "\n",
    "Here is a simple example of how to use the output tuple. I'll find the root $x^*=0$ of $f(x) = tan^{-1}(x)$ and look at the iteration statistics. "
   ]
  },
  {
   "cell_type": "code",
   "execution_count": 3,
   "metadata": {
    "scrolled": true
   },
   "outputs": [
    {
     "name": "stdout",
     "output_type": "stream",
     "text": [
      "Solution = -1.13371e-06.\n",
      "Function = -1.13371e-06.\n",
      "Function call history = [1, 3, 2, 2, 1, 1, 1].\n",
      "Derivative call history = [0, 1, 1, 1, 1, 1, 1].\n",
      "Step size reduction history = [0, 2, 1, 1, 0, 0, 0].\n"
     ]
    },
    {
     "data": {
      "text/plain": [
       "7-element Vector{Float64}:\n",
       " 1.47113e+00\n",
       " 1.19982e+00\n",
       " 1.10593e+00\n",
       " 6.48294e-01\n",
       " 2.56979e-01\n",
       " 1.19356e-02\n",
       " 1.13371e-06"
      ]
     },
     "execution_count": 3,
     "metadata": {},
     "output_type": "execute_result"
    }
   ],
   "source": [
    "tanout=nsolsc(atan,10.0);\n",
    "solution=tanout.solution; \n",
    "println(\"Solution = $solution.\")\n",
    "\n",
    "functionval=tanout.functionval; \n",
    "println(\"Function = $functionval.\")\n",
    "\n",
    "ifun=tanout.stats.ifun; \n",
    "println(\"Function call history = $ifun.\")\n",
    "\n",
    "ijac=tanout.stats.ijac; \n",
    "println(\"Derivative call history = $ijac.\")\n",
    "\n",
    "iarm=tanout.stats.iarm; \n",
    "println(\"Step size reduction history = $iarm.\")\n",
    "\n",
    "# Now print the residual norm history\n",
    "tanout.history"
   ]
  },
  {
   "cell_type": "markdown",
   "metadata": {},
   "source": [
    "Note that I put a semicolon after calls to the solvers to stop printing the output\n",
    "after the call. This is exactly the same as the semicolon in Matlab.\n",
    "I've taken the defaults for everything, so the iteration terminated when the residual was about $10^{-6}$. Note that the solution history is part of the output. You can examine the history directly by asking for it. I store\n",
    "the solution history as a row vector to make the scalar equation code consistent with the one for systems, where the iterations are the columns of the solution history. Hence I print the transpose to make the results easier to look at."
   ]
  },
  {
   "cell_type": "code",
   "execution_count": 4,
   "metadata": {},
   "outputs": [
    {
     "data": {
      "text/plain": [
       "7×1 adjoint(::Matrix{Float64}) with eltype Float64:\n",
       "  1.00000e+01\n",
       "  2.57080e+00\n",
       " -1.99394e+00\n",
       "  7.57517e-01\n",
       " -2.62790e-01\n",
       "  1.19362e-02\n",
       " -1.13371e-06"
      ]
     },
     "execution_count": 4,
     "metadata": {},
     "output_type": "execute_result"
    }
   ],
   "source": [
    "tanout.solhist'"
   ]
  },
  {
   "cell_type": "markdown",
   "metadata": {},
   "source": [
    "You can (and should) turn this off for systems of equations where the solution history can become a massive storage burden. It may be useful if you want to visualize the history with a movie, but is rarely worth the trouble. The solution and final function values are ..."
   ]
  },
  {
   "cell_type": "code",
   "execution_count": 5,
   "metadata": {},
   "outputs": [
    {
     "data": {
      "text/plain": [
       "1×2 Matrix{Float64}:\n",
       " -1.13371e-06  -1.13371e-06"
      ]
     },
     "execution_count": 5,
     "metadata": {},
     "output_type": "execute_result"
    }
   ],
   "source": [
    "[tanout.solution tanout.functionval]"
   ]
  },
  {
   "cell_type": "markdown",
   "metadata": {},
   "source": [
    "Looking at the iteration history can help you find errors or convince you that things are going well. For example, since ${\\rm atan}'(0)=1$, we would\n",
    "expect the solution and final function values to be same, and they are.\n",
    "One simple thing we will do often is to plot a semilog graph of the residual history. If we are comparing methods, it is a good idea to plot $|f(x_n)|/|f(x_0)|$ to that all the plots will begin at the same point. Here is a simple version of that. You should always label axes,  so I did. I make the curves black to save on publication costs for the print book."
   ]
  },
  {
   "cell_type": "code",
   "execution_count": 6,
   "metadata": {},
   "outputs": [
    {
     "data": {
      "image/png": "[encoded data removed]",
      "text/plain": [
       "Figure(PyObject <Figure size 640x480 with 1 Axes>)"
      ]
     },
     "metadata": {},
     "output_type": "display_data"
    }
   ],
   "source": [
    "residdata=tanout.history./tanout.history[1]; \n",
    "sizehist=length(residdata)\n",
    "semilogy(0:sizehist-1,residdata,\"k-\");\n",
    "xlabel(\"iterations\");\n",
    "ylabel(\"relative residual\");\n",
    "title(\"Figure 1.8 in print book\");"
   ]
  },
  {
   "cell_type": "markdown",
   "metadata": {},
   "source": [
    "The user interface for PyPlot is very similar to plotting in Matlab, which is why I use it. The stats array has the data for function and derivative evaluations and the number of stepsize reductions in the line search. As you can see, the line search had some work to do in this example. If the iteration is not doing what you expect, a quick look at stats may help."
   ]
  },
  {
   "cell_type": "code",
   "execution_count": 7,
   "metadata": {
    "scrolled": true
   },
   "outputs": [
    {
     "name": "stdout",
     "output_type": "stream",
     "text": [
      "Function call history = [1, 3, 2, 2, 1, 1, 1].\n",
      "Derivative call history = [0, 1, 1, 1, 1, 1, 1].\n",
      "Step size reduction history = [0, 2, 1, 1, 0, 0, 0].\n"
     ]
    }
   ],
   "source": [
    "ifun=tanout.stats.ifun; \n",
    "println(\"Function call history = $ifun.\")\n",
    "\n",
    "ijac=tanout.stats.ijac; \n",
    "println(\"Derivative call history = $ijac.\")\n",
    "\n",
    "iarm=tanout.stats.iarm; \n",
    "println(\"Step size reduction history = $iarm.\")"
   ]
  },
  {
   "cell_type": "markdown",
   "metadata": {},
   "source": [
    "Here we see that the line search was active on iterations 1, 2, and 3 and every step size reduction costs a function evaluation like it's supposed to."
   ]
  },
  {
   "cell_type": "markdown",
   "metadata": {},
   "source": [
    "## Section 1.10.2: The secant method\n",
    "\n",
    "### secant.jl"
   ]
  },
  {
   "cell_type": "markdown",
   "metadata": {},
   "source": [
    "We will now looks at the docstrings for __secant.jl__. The interface is very similar to __nsolsc.jl__. The only differences are that there is no reason to decide to reevaluate the derivative or not, since the secant method\n",
    "computes the model derivative with every iteration, so kwargs like __sham__ are missing. The output tuple is essentially the same as the other codes from this book."
   ]
  },
  {
   "cell_type": "code",
   "execution_count": 8,
   "metadata": {},
   "outputs": [
    {
     "name": "stdout",
     "output_type": "stream",
     "text": [
      "search: \u001b[0m\u001b[1ms\u001b[22m\u001b[0m\u001b[1me\u001b[22m\u001b[0m\u001b[1mc\u001b[22m\u001b[0m\u001b[1ma\u001b[22m\u001b[0m\u001b[1mn\u001b[22m\u001b[0m\u001b[1mt\u001b[22m vcat hcat cat \u001b[0m\u001b[1ms\u001b[22m\u001b[0m\u001b[1me\u001b[22m\u001b[0m\u001b[1mc\u001b[22md mean \u001b[0m\u001b[1ms\u001b[22m\u001b[0m\u001b[1me\u001b[22m\u001b[0m\u001b[1mc\u001b[22m \u001b[0m\u001b[1ms\u001b[22mprand \u001b[0m\u001b[1ms\u001b[22mtat \u001b[0m\u001b[1ms\u001b[22mcal \u001b[0m\u001b[1ms\u001b[22mplat \u001b[0m\u001b[1ms\u001b[22m\u001b[0m\u001b[1me\u001b[22mtenv hvcat\n",
      "\n"
     ]
    },
    {
     "data": {
      "text/latex": [
       "secant(f,x0; rtol=1.e-6, atol=1.e-12, maxit=10,         armmax=10, armfix=false, pdata=nothing,         printerr=true, keepsolhist=true, stagnationok=false)\n",
       "\n",
       "C. T. Kelley, 2022\n",
       "\n",
       "The secant method for scalar equations. \n",
       "\n",
       "Input:\n",
       "\n",
       "f: function\n",
       "\n",
       "x0: initial iterate\n",
       "\n",
       "Keyword Arguments (kwargs):\n",
       "\n",
       "rtol, atol: real and absolute error tolerances\n",
       "\n",
       "maxit: upper bound on number of nonlinear iterations\n",
       "\n",
       "If you use secant and your initial iterate is poor, you have made a mistake. You will get an error message.\n",
       "\n",
       "armmax: upper bound on stepsize reductions in linesearch\n",
       "\n",
       "armfix:\n",
       "\n",
       "The default is a parabolic line search (ie false). Set to true and the stepsize will be fixed at .5. Don't do this unless you are doing experiments for research.\n",
       "\n",
       "printerr:\n",
       "\n",
       "I print a helpful message when the solver fails. To suppress that message set printerr to false.\n",
       "\n",
       "keepsolhist:\n",
       "\n",
       "Set this to true to get the history of the iteration in the output tuple. This is on by default for scalar equations and off for systems. Only turn it on if you have use for the data, which can get REALLY LARGE.\n",
       "\n",
       "stagnationok:\n",
       "\n",
       "Set this to true if you want to disable the line search and either observe divergence or stagnation. This is only useful for research or writing a book.\n",
       "\n",
       "Output:\n",
       "\n",
       "A named tuple (solution, functionval, history, stats, idid,                errcode, solhist) where\n",
       "\n",
       "solution = converged result functionval = F(solution) history = the vector of residual norms (||F(x)||) for the iteration stats = named tuple of the history of (ifun, ijac, iarm), the number of functions/derivatives/steplength reductions at each iteration. For the secant method, ijac = 0.\n",
       "\n",
       "idid=true if the iteration succeeded and false if not.\n",
       "\n",
       "errcode = 0 if if the iteration succeeded         = -1 if the initial iterate satisfies the termination criteria         = 10 if no convergence after maxit iterations         = 1  if the line search failed\n",
       "\n",
       "solhist:\n",
       "\n",
       "This is the entire history of the iteration if you've set keepsolhist=true\n",
       "\n",
       "secant builds solhist with a function from the Tools directory. For systems, solhist is an N x K array where N is the length of x and K  is the number of iteration + 1. So, for scalar equations (N=1), solhist is a row vector. Hence the use of solhist' in the example below.\n",
       "\n",
       "\\subsubsection{Example for secant.jl}\n",
       "\\begin{verbatim}\n",
       "\n",
       "julia> secout=secant(atan,1.0;maxit=6,atol=1.e-12,rtol=1.e-12);\n",
       "\n",
       "\n",
       "julia> secout.history\n",
       "7-element Array{Float64,1}:\n",
       " 7.85398e-01\n",
       " 5.18729e-01\n",
       " 5.39030e-02\n",
       " 4.86125e-03\n",
       " 4.28860e-06\n",
       " 3.37529e-11\n",
       " 2.06924e-22\n",
       "\\end{verbatim}\n"
      ],
      "text/markdown": [
       "secant(f,x0; rtol=1.e-6, atol=1.e-12, maxit=10,         armmax=10, armfix=false, pdata=nothing,         printerr=true, keepsolhist=true, stagnationok=false)\n",
       "\n",
       "C. T. Kelley, 2022\n",
       "\n",
       "The secant method for scalar equations. \n",
       "\n",
       "Input:\n",
       "\n",
       "f: function\n",
       "\n",
       "x0: initial iterate\n",
       "\n",
       "Keyword Arguments (kwargs):\n",
       "\n",
       "rtol, atol: real and absolute error tolerances\n",
       "\n",
       "maxit: upper bound on number of nonlinear iterations\n",
       "\n",
       "If you use secant and your initial iterate is poor, you have made a mistake. You will get an error message.\n",
       "\n",
       "armmax: upper bound on stepsize reductions in linesearch\n",
       "\n",
       "armfix:\n",
       "\n",
       "The default is a parabolic line search (ie false). Set to true and the stepsize will be fixed at .5. Don't do this unless you are doing experiments for research.\n",
       "\n",
       "printerr:\n",
       "\n",
       "I print a helpful message when the solver fails. To suppress that message set printerr to false.\n",
       "\n",
       "keepsolhist:\n",
       "\n",
       "Set this to true to get the history of the iteration in the output tuple. This is on by default for scalar equations and off for systems. Only turn it on if you have use for the data, which can get REALLY LARGE.\n",
       "\n",
       "stagnationok:\n",
       "\n",
       "Set this to true if you want to disable the line search and either observe divergence or stagnation. This is only useful for research or writing a book.\n",
       "\n",
       "Output:\n",
       "\n",
       "A named tuple (solution, functionval, history, stats, idid,                errcode, solhist) where\n",
       "\n",
       "solution = converged result functionval = F(solution) history = the vector of residual norms (||F(x)||) for the iteration stats = named tuple of the history of (ifun, ijac, iarm), the number of functions/derivatives/steplength reductions at each iteration. For the secant method, ijac = 0.\n",
       "\n",
       "idid=true if the iteration succeeded and false if not.\n",
       "\n",
       "errcode = 0 if if the iteration succeeded         = -1 if the initial iterate satisfies the termination criteria         = 10 if no convergence after maxit iterations         = 1  if the line search failed\n",
       "\n",
       "solhist:\n",
       "\n",
       "This is the entire history of the iteration if you've set keepsolhist=true\n",
       "\n",
       "secant builds solhist with a function from the Tools directory. For systems, solhist is an N x K array where N is the length of x and K  is the number of iteration + 1. So, for scalar equations (N=1), solhist is a row vector. Hence the use of solhist' in the example below.\n",
       "\n",
       "### Example for secant.jl\n",
       "\n",
       "```jldoctest\n",
       "\n",
       "julia> secout=secant(atan,1.0;maxit=6,atol=1.e-12,rtol=1.e-12);\n",
       "\n",
       "\n",
       "julia> secout.history\n",
       "7-element Array{Float64,1}:\n",
       " 7.85398e-01\n",
       " 5.18729e-01\n",
       " 5.39030e-02\n",
       " 4.86125e-03\n",
       " 4.28860e-06\n",
       " 3.37529e-11\n",
       " 2.06924e-22\n",
       "```\n"
      ],
      "text/plain": [
       "  secant(f,x0; rtol=1.e-6, atol=1.e-12, maxit=10, armmax=10, armfix=false,\n",
       "  pdata=nothing, printerr=true, keepsolhist=true, stagnationok=false)\n",
       "\n",
       "  C. T. Kelley, 2022\n",
       "\n",
       "  The secant method for scalar equations.\n",
       "\n",
       "  Input:\n",
       "\n",
       "  f: function\n",
       "\n",
       "  x0: initial iterate\n",
       "\n",
       "  Keyword Arguments (kwargs):\n",
       "\n",
       "  rtol, atol: real and absolute error tolerances\n",
       "\n",
       "  maxit: upper bound on number of nonlinear iterations\n",
       "\n",
       "  If you use secant and your initial iterate is poor, you have made a mistake.\n",
       "  You will get an error message.\n",
       "\n",
       "  armmax: upper bound on stepsize reductions in linesearch\n",
       "\n",
       "  armfix:\n",
       "\n",
       "  The default is a parabolic line search (ie false). Set to true and the\n",
       "  stepsize will be fixed at .5. Don't do this unless you are doing experiments\n",
       "  for research.\n",
       "\n",
       "  printerr:\n",
       "\n",
       "  I print a helpful message when the solver fails. To suppress that message\n",
       "  set printerr to false.\n",
       "\n",
       "  keepsolhist:\n",
       "\n",
       "  Set this to true to get the history of the iteration in the output tuple.\n",
       "  This is on by default for scalar equations and off for systems. Only turn it\n",
       "  on if you have use for the data, which can get REALLY LARGE.\n",
       "\n",
       "  stagnationok:\n",
       "\n",
       "  Set this to true if you want to disable the line search and either observe\n",
       "  divergence or stagnation. This is only useful for research or writing a\n",
       "  book.\n",
       "\n",
       "  Output:\n",
       "\n",
       "  A named tuple (solution, functionval, history, stats, idid, errcode,\n",
       "  solhist) where\n",
       "\n",
       "  solution = converged result functionval = F(solution) history = the vector\n",
       "  of residual norms (||F(x)||) for the iteration stats = named tuple of the\n",
       "  history of (ifun, ijac, iarm), the number of\n",
       "  functions/derivatives/steplength reductions at each iteration. For the\n",
       "  secant method, ijac = 0.\n",
       "\n",
       "  idid=true if the iteration succeeded and false if not.\n",
       "\n",
       "  errcode = 0 if if the iteration succeeded = -1 if the initial iterate\n",
       "  satisfies the termination criteria = 10 if no convergence after maxit\n",
       "  iterations = 1 if the line search failed\n",
       "\n",
       "  solhist:\n",
       "\n",
       "  This is the entire history of the iteration if you've set keepsolhist=true\n",
       "\n",
       "  secant builds solhist with a function from the Tools directory. For systems,\n",
       "  solhist is an N x K array where N is the length of x and K is the number of\n",
       "  iteration + 1. So, for scalar equations (N=1), solhist is a row vector.\n",
       "  Hence the use of solhist' in the example below.\n",
       "\n",
       "\u001b[1m  Example for secant.jl\u001b[22m\n",
       "\u001b[1m  –––––––––––––––––––––\u001b[22m\n",
       "\n",
       "\u001b[36m  \u001b[39m\n",
       "\u001b[36m  julia> secout=secant(atan,1.0;maxit=6,atol=1.e-12,rtol=1.e-12);\u001b[39m\n",
       "\u001b[36m  \u001b[39m\n",
       "\u001b[36m  \u001b[39m\n",
       "\u001b[36m  julia> secout.history\u001b[39m\n",
       "\u001b[36m  7-element Array{Float64,1}:\u001b[39m\n",
       "\u001b[36m   7.85398e-01\u001b[39m\n",
       "\u001b[36m   5.18729e-01\u001b[39m\n",
       "\u001b[36m   5.39030e-02\u001b[39m\n",
       "\u001b[36m   4.86125e-03\u001b[39m\n",
       "\u001b[36m   4.28860e-06\u001b[39m\n",
       "\u001b[36m   3.37529e-11\u001b[39m\n",
       "\u001b[36m   2.06924e-22\u001b[39m"
      ]
     },
     "execution_count": 8,
     "metadata": {},
     "output_type": "execute_result"
    }
   ],
   "source": [
    "?secant"
   ]
  },
  {
   "cell_type": "markdown",
   "metadata": {},
   "source": [
    "Now we can play with the options for __nsolsc.jl__ and __secant.jl__. Let's tighten the tolerances and compare three solvers. Newton's method and the secant method successfully found the solution. The chord method failed to converge and gave an error message."
   ]
  },
  {
   "cell_type": "code",
   "execution_count": 9,
   "metadata": {},
   "outputs": [
    {
     "name": "stdout",
     "output_type": "stream",
     "text": [
      "Maximum iterations (maxit) of 10 exceeded\n",
      "Convergence failure: residual norm too large  2.46512e-01\n",
      "Try increasing maxit and checking your function and\n",
      "                 Jacobian for bugs.\n",
      "Give the history array a look to see what's happening.\n",
      "  \n"
     ]
    }
   ],
   "source": [
    "tannewt=nsolsc(atan,1.0; rtol=1.e-12, atol=1.e-12);\n",
    "tansec=secant(atan,1.0; rtol=1.e-12, atol=1.e-12);\n",
    "tanchord=nsolsc(atan,1.0; rtol=1.e-12, atol=1.e-12, \n",
    "    solver=\"chord\");"
   ]
  },
  {
   "cell_type": "markdown",
   "metadata": {},
   "source": [
    "Let's examine the history array for the chord iteration."
   ]
  },
  {
   "cell_type": "code",
   "execution_count": 10,
   "metadata": {},
   "outputs": [
    {
     "data": {
      "text/plain": [
       "11-element Vector{Float64}:\n",
       " 7.85398e-01\n",
       " 5.18669e-01\n",
       " 4.36525e-01\n",
       " 3.86104e-01\n",
       " 3.50593e-01\n",
       " 3.23686e-01\n",
       " 3.02326e-01\n",
       " 2.84806e-01\n",
       " 2.70083e-01\n",
       " 2.57474e-01\n",
       " 2.46512e-01"
      ]
     },
     "execution_count": 10,
     "metadata": {},
     "output_type": "execute_result"
    }
   ],
   "source": [
    "tanchord.history"
   ]
  },
  {
   "cell_type": "markdown",
   "metadata": {},
   "source": [
    "Yes, that's going nowhere at all. The problem is that the derivative at $x_0 = 1$ is not good enough to make the chord iteration converge well. It would get there eventually, but only after far more iterations that you or I have the patience for. Let's plot the results and see what we got."
   ]
  },
  {
   "cell_type": "code",
   "execution_count": 11,
   "metadata": {},
   "outputs": [
    {
     "data": {
      "image/png": "[encoded data removed]",
      "text/plain": [
       "Figure(PyObject <Figure size 640x480 with 1 Axes>)"
      ]
     },
     "metadata": {},
     "output_type": "display_data"
    }
   ],
   "source": [
    "residdatan=tannewt.history./tannewt.history[1]; \n",
    "sizehistn=length(residdatan);\n",
    "\n",
    "residdatas=tansec.history./tansec.history[1]; \n",
    "sizehists=length(residdatas);\n",
    "\n",
    "residdatac=tanchord.history./tanchord.history[1]; \n",
    "sizehistc=length(residdatac);\n",
    "\n",
    "semilogy(0:sizehistn-1,residdatan,\"k-\",\n",
    "0:sizehists-1,residdatas,\"k--\",\n",
    "0:sizehistc-1,residdatac,\"k-.\"\n",
    ");\n",
    "legend([\"Newton\",\"Secant\",\"Chord\"]);\n",
    "xlabel(\"iterations\");\n",
    "ylabel(\"relative residual\");\n",
    "title(\"Figure 1.9 in print book\");"
   ]
  },
  {
   "cell_type": "markdown",
   "metadata": {},
   "source": [
    "This is exactly what you'd expect. The histories for the secant and Newton iterations have the downward concavity of superlinear convergence. Newton's method takes fewer nonlinear iterations (but only by one) while the secant method uses fewer calls to functions. Remember that Newton does a function and derivative evaluation at each step, while the secant iteration only needs a single function evaluation per step. \n",
    "\n",
    "We've seen how to run the solver, pick methods, and look at the output. We are almost done with this section and ready to move on to systems of equations in [Chapter 2](SIAMFANLCh2.ipynb). The last thing to do is talk about how to package your function. Suppose you have Julia code for your function (__myfun.jl__) and its derivative (__myfunp.jl__). Once in the REPL or a notebook, you can put these functions where Julia can find then with the __include__ command. You'd do\n",
    "\n",
    "```Julia\n",
    "include(\"myfun.jl\")\n",
    "include(\"myfunp.jl\")\n",
    "```\n",
    "and then could invoke the solvers. This is far from ideal for many reasons.\n",
    "\n",
    "Julia is a compiled language. The code for your functions is compiled when you invoke the __include__ command. If you make a change to __myfun.jl__, you would have to include it again before you could use it. \n",
    "\n",
    "Another way is to use a module to contain all the code you need for your function. __MyFunction.jl__ is an\n",
    "example of such a module. If your function has many subfunctions and only a few of them are \n",
    "used outside of the function itself, putting them in a module is a very good\n",
    "idea. That is why all of the examples in this book are in the \n",
    "__TestProblems__ submodule of SIAMFANLEquations.\n",
    "\n",
    "```Julia\n",
    "module MyFunction\n",
    "\n",
    "export myfun\n",
    "export myfunp\n",
    "\n",
    "function myfun(x)\n",
    "    fun=cos(x)-x\n",
    "    return fun\n",
    "end\n",
    "\n",
    "function myfunp(x)\n",
    "    funp=-sin(x)-1\n",
    "    return funp\n",
    "end\n",
    "end\n",
    "```\n",
    "\n",
    "If you use modules and the __Revise.jl__\n",
    "<cite data-cite=\"revise\"><a href=\"siamfa.html#revise\">(Hol20)</cite> package, then changes in your module\n",
    "will be immediately recompiled and usable in the REPL. ```using Revise``` belongs in the __startup.jl__ file of\n",
    "every Julia programmer.  Put it on the first line of __startup.jl__ to get it to work properly.\n",
    "\n",
    "I've put __MyFunction.jl__ in the src/Chapter1 directory of NotebookSIAMFANL. You will be able to use it if you've run the ```include(\"fanote_init.jl\")``` command in the first code cell. However, if it's your own module, you will need to make sure that it is in your __LOAD_PATH__ and then type a ```using command``` in the REPL. In this case that command would be\n"
   ]
  },
  {
   "cell_type": "code",
   "execution_count": 12,
   "metadata": {},
   "outputs": [],
   "source": [
    "using NotebookSIAMFANL.MyFunction"
   ]
  },
  {
   "cell_type": "markdown",
   "metadata": {},
   "source": [
    "To see if the functions are where they need to be, we'll evaluate them."
   ]
  },
  {
   "cell_type": "code",
   "execution_count": 13,
   "metadata": {},
   "outputs": [
    {
     "data": {
      "text/plain": [
       "2-element Vector{Float64}:\n",
       " -4.14159e+00\n",
       " -1.00000e+00"
      ]
     },
     "execution_count": 13,
     "metadata": {},
     "output_type": "execute_result"
    }
   ],
   "source": [
    "x=pi;\n",
    "y=myfun(x);\n",
    "yp=myfunp(x);\n",
    "[y,yp]"
   ]
  },
  {
   "cell_type": "markdown",
   "metadata": {},
   "source": [
    "We now have both __myfun__ and its derivative __myfunp__ ready to go. We will compare Newton's method with an analytic derivative to the iteration with a forward difference derivative (the default)."
   ]
  },
  {
   "cell_type": "code",
   "execution_count": 14,
   "metadata": {},
   "outputs": [
    {
     "data": {
      "text/plain": [
       "4-element Vector{Float64}:\n",
       " 0.00000e+00\n",
       " 6.53120e-09\n",
       " 4.36679e-10\n",
       " 1.00131e-12"
      ]
     },
     "execution_count": 14,
     "metadata": {},
     "output_type": "execute_result"
    }
   ],
   "source": [
    "# Solve the equation twice.\n",
    "# Once with a finite difference derivative ...\n",
    "     myfunforwarddiff=nsolsc(myfun,1.0);\n",
    "# and again with an analytic derivative.\n",
    "     myfunanalytic=nsolsc(myfun,1.0,myfunp);\n",
    "# Now subtract the residual histories.\n",
    "     myfunforwarddiff.history-myfunanalytic.history"
   ]
  },
  {
   "cell_type": "markdown",
   "metadata": {},
   "source": [
    "There's no significant difference. We will return to this in the subsequent chapters."
   ]
  },
  {
   "cell_type": "markdown",
   "metadata": {},
   "source": [
    "Finally we will see how we circumvented the normal termination criteria to generate __Figure 1.3__. The trick is to use the __stagnationok__ keyword. The call to Newton's method looked like\n",
    "\n",
    "```Julia\n",
    "nnout=nsolsc(ftanx,4.5; maxit=14, rtol=1.e-17, atol=1.e-17, \n",
    "       printerr=false, stagnationok=true)\n",
    "```\n",
    "Setting __stagnationok = true__ turned off termination when the line search failed to obtain sufficient decrease, which would give more sensible results. The purpose of this option is to do experiments and it's best left set to false (the default). A better version of __Figure 1.3__ would do this, but not show stagnation as vividly. __fig1dot3b.jl__ does that."
   ]
  },
  {
   "cell_type": "code",
   "execution_count": 15,
   "metadata": {},
   "outputs": [
    {
     "data": {
      "image/png": "[encoded data removed]",
      "text/plain": [
       "Figure(PyObject <Figure size 640x480 with 1 Axes>)"
      ]
     },
     "metadata": {},
     "output_type": "display_data"
    }
   ],
   "source": [
    "threewaystagnationv2();"
   ]
  },
  {
   "cell_type": "markdown",
   "metadata": {},
   "source": [
    "## Section 1.10.3: Pseudo-Transient Continuation\n",
    "\n",
    "### ptcsolsc.jl"
   ]
  },
  {
   "cell_type": "markdown",
   "metadata": {},
   "source": [
    "__ptcsolsc.jl__ is the scalar pseudo-transient continuation solver. As usual, we will start with the docstrings"
   ]
  },
  {
   "cell_type": "code",
   "execution_count": 16,
   "metadata": {},
   "outputs": [
    {
     "name": "stdout",
     "output_type": "stream",
     "text": [
      "search: \u001b[0m\u001b[1mp\u001b[22m\u001b[0m\u001b[1mt\u001b[22m\u001b[0m\u001b[1mc\u001b[22m\u001b[0m\u001b[1ms\u001b[22m\u001b[0m\u001b[1mo\u001b[22m\u001b[0m\u001b[1ml\u001b[22m\u001b[0m\u001b[1ms\u001b[22m\u001b[0m\u001b[1mc\u001b[22m \u001b[0m\u001b[1mp\u001b[22m\u001b[0m\u001b[1mt\u001b[22m\u001b[0m\u001b[1mc\u001b[22m\u001b[0m\u001b[1ms\u001b[22m\u001b[0m\u001b[1mo\u001b[22m\u001b[0m\u001b[1ml\u001b[22m \u001b[0m\u001b[1mp\u001b[22m\u001b[0m\u001b[1mt\u001b[22m\u001b[0m\u001b[1mc\u001b[22m\u001b[0m\u001b[1ms\u001b[22m\u001b[0m\u001b[1mo\u001b[22m\u001b[0m\u001b[1ml\u001b[22mi nsolsc \u001b[0m\u001b[1mp\u001b[22m\u001b[0m\u001b[1mt\u001b[22m\u001b[0m\u001b[1mc\u001b[22mte\u001b[0m\u001b[1ms\u001b[22mt \u001b[0m\u001b[1mp\u001b[22mcolor cosc\n",
      "\n"
     ]
    },
    {
     "data": {
      "text/latex": [
       "ptcsolsc(f, x0, fp=difffp; rtol=1.e-6, atol=1.e-12, maxit=100,         delta0=1.e-6, dx=1.e-7, pdata=nothing, printerr = true, keepsolhist=true)\n",
       "\n",
       "C. T. Kelley, 2022\n",
       "\n",
       "Scalar pseudo-transient continuation solver. PTC is designed to find stable steady state solutions of \n",
       "\n",
       "dx/dt = - f(x)\n",
       "\n",
       "The scalar code is a simple wrapper around a call to ptcsol.jl, the  PTC solver for systems.\n",
       "\n",
       "–> PTC is ABSOLUTELY NOT a general purpose nonlinear solver.\n",
       "\n",
       "Input:\n",
       "\n",
       "f: function\n",
       "\n",
       "x: initial iterate/data\n",
       "\n",
       "fp: derivative. If your derivative function is fp, you give me its name. For example fp=foobar tells me that foobar is your function for the derivative. The default is a forward difference Jacobian that I provide.\n",
       "\n",
       "Keyword Arguments:\n",
       "\n",
       "rtol, atol: real and absolute error tolerances\n",
       "\n",
       "maxit: upper bound on number of nonlinear iterations. This is  coupled to delta0. If your choice of delta0 is too small (conservative) then you'll need many iterations to converge and will need a larger value of maxit.\n",
       "\n",
       "delta0: initial pseudo time step. The default value of 1.e-3 is a bit  conservative and is one option you really should play with. Look at the example where I set it to 1.0!\n",
       "\n",
       "dx: default = 1.e-7\n",
       "\n",
       "difference increment in finite-difference derivatives       h=dx*norm(x)+1.e-6\n",
       "\n",
       "pdata:\n",
       "\n",
       "precomputed data for the function/derivative. Things will go better if you use this rather than hide the data in global variables within the module for your function/derivative If you use this option your function and derivative must take pdata  as a second argument. eg f(x,pdata) and fp(x,pdata)\n",
       "\n",
       "printerr: default = true\n",
       "\n",
       "I print a helpful message when the solver fails. To suppress that message set printerr to false.\n",
       "\n",
       "keepsolhist: if true you get the history of the iteration in the output  tuple. This is on by default for scalar equations and off for systems. Only turn it on if you have use for the data, which can get REALLY LARGE.\n",
       "\n",
       "Output: A tuple (solution, functionval, history, idid, errcode, solhist) where history is the array of absolute function values |f(x)| of residual norms and time steps. Unless something has gone badly wrong, delta approx |f(x\\_0)|/|f(x)|.\n",
       "\n",
       "idid=true if the iteration succeeded and false if not.\n",
       "\n",
       "errcode = 0 if if the iteration succeeded         = -1 if the initial iterate satisfies the termination criteria         = 10 if no convergence after maxit iterations\n",
       "\n",
       "solhist=entire history of the iteration if keepsolhist=true\n",
       "\n",
       "ptcsolsc builds solhist with a function from the Tools directory. For systems, solhist is an N x K array where N is the length of x and K  is the number of iteration + 1. So, for scalar equations (N=1), solhist is a row vector. Hence I use [ptcout.solhist' ptcout.history] in the example below.\n",
       "\n",
       "If the iteration fails it's time to play with the tolerances, delta0, and maxit. You are certain to fail if there is no stable solution to the equation.\n",
       "\n",
       "\\subsubsection{Examples for ptcsolsc}\n",
       "\\begin{verbatim}\n",
       "julia> ptcout=ptcsolsc(sptest,.2;delta0=2.0,rtol=1.e-3,atol=1.e-3);\n",
       "\n",
       "julia> [ptcout.solhist' ptcout.history]\n",
       "7×2 Array{Float64,2}:\n",
       " 2.00000e-01  9.20000e-02\n",
       " 9.66666e-01  4.19962e-01\n",
       " 8.75086e-01  2.32577e-01\n",
       " 7.99114e-01  1.10743e-01\n",
       " 7.44225e-01  4.00926e-02\n",
       " 7.15163e-01  8.19395e-03\n",
       " 7.07568e-01  4.61523e-04\n",
       "\\end{verbatim}\n"
      ],
      "text/markdown": [
       "ptcsolsc(f, x0, fp=difffp; rtol=1.e-6, atol=1.e-12, maxit=100,         delta0=1.e-6, dx=1.e-7, pdata=nothing, printerr = true, keepsolhist=true)\n",
       "\n",
       "C. T. Kelley, 2022\n",
       "\n",
       "Scalar pseudo-transient continuation solver. PTC is designed to find stable steady state solutions of \n",
       "\n",
       "dx/dt = - f(x)\n",
       "\n",
       "The scalar code is a simple wrapper around a call to ptcsol.jl, the  PTC solver for systems.\n",
       "\n",
       "–> PTC is ABSOLUTELY NOT a general purpose nonlinear solver.\n",
       "\n",
       "Input:\n",
       "\n",
       "f: function\n",
       "\n",
       "x: initial iterate/data\n",
       "\n",
       "fp: derivative. If your derivative function is fp, you give me its name. For example fp=foobar tells me that foobar is your function for the derivative. The default is a forward difference Jacobian that I provide.\n",
       "\n",
       "Keyword Arguments:\n",
       "\n",
       "rtol, atol: real and absolute error tolerances\n",
       "\n",
       "maxit: upper bound on number of nonlinear iterations. This is  coupled to delta0. If your choice of delta0 is too small (conservative) then you'll need many iterations to converge and will need a larger value of maxit.\n",
       "\n",
       "delta0: initial pseudo time step. The default value of 1.e-3 is a bit  conservative and is one option you really should play with. Look at the example where I set it to 1.0!\n",
       "\n",
       "dx: default = 1.e-7\n",
       "\n",
       "difference increment in finite-difference derivatives       h=dx*norm(x)+1.e-6\n",
       "\n",
       "pdata:\n",
       "\n",
       "precomputed data for the function/derivative. Things will go better if you use this rather than hide the data in global variables within the module for your function/derivative If you use this option your function and derivative must take pdata  as a second argument. eg f(x,pdata) and fp(x,pdata)\n",
       "\n",
       "printerr: default = true\n",
       "\n",
       "I print a helpful message when the solver fails. To suppress that message set printerr to false.\n",
       "\n",
       "keepsolhist: if true you get the history of the iteration in the output  tuple. This is on by default for scalar equations and off for systems. Only turn it on if you have use for the data, which can get REALLY LARGE.\n",
       "\n",
       "Output: A tuple (solution, functionval, history, idid, errcode, solhist) where history is the array of absolute function values |f(x)| of residual norms and time steps. Unless something has gone badly wrong, delta approx |f(x_0)|/|f(x)|.\n",
       "\n",
       "idid=true if the iteration succeeded and false if not.\n",
       "\n",
       "errcode = 0 if if the iteration succeeded         = -1 if the initial iterate satisfies the termination criteria         = 10 if no convergence after maxit iterations\n",
       "\n",
       "solhist=entire history of the iteration if keepsolhist=true\n",
       "\n",
       "ptcsolsc builds solhist with a function from the Tools directory. For systems, solhist is an N x K array where N is the length of x and K  is the number of iteration + 1. So, for scalar equations (N=1), solhist is a row vector. Hence I use [ptcout.solhist' ptcout.history] in the example below.\n",
       "\n",
       "If the iteration fails it's time to play with the tolerances, delta0, and maxit. You are certain to fail if there is no stable solution to the equation.\n",
       "\n",
       "### Examples for ptcsolsc\n",
       "\n",
       "```jldoctest\n",
       "julia> ptcout=ptcsolsc(sptest,.2;delta0=2.0,rtol=1.e-3,atol=1.e-3);\n",
       "\n",
       "julia> [ptcout.solhist' ptcout.history]\n",
       "7×2 Array{Float64,2}:\n",
       " 2.00000e-01  9.20000e-02\n",
       " 9.66666e-01  4.19962e-01\n",
       " 8.75086e-01  2.32577e-01\n",
       " 7.99114e-01  1.10743e-01\n",
       " 7.44225e-01  4.00926e-02\n",
       " 7.15163e-01  8.19395e-03\n",
       " 7.07568e-01  4.61523e-04\n",
       "```\n"
      ],
      "text/plain": [
       "  ptcsolsc(f, x0, fp=difffp; rtol=1.e-6, atol=1.e-12, maxit=100, delta0=1.e-6,\n",
       "  dx=1.e-7, pdata=nothing, printerr = true, keepsolhist=true)\n",
       "\n",
       "  C. T. Kelley, 2022\n",
       "\n",
       "  Scalar pseudo-transient continuation solver. PTC is designed to find stable\n",
       "  steady state solutions of\n",
       "\n",
       "  dx/dt = - f(x)\n",
       "\n",
       "  The scalar code is a simple wrapper around a call to ptcsol.jl, the PTC\n",
       "  solver for systems.\n",
       "\n",
       "  –> PTC is ABSOLUTELY NOT a general purpose nonlinear solver.\n",
       "\n",
       "  Input:\n",
       "\n",
       "  f: function\n",
       "\n",
       "  x: initial iterate/data\n",
       "\n",
       "  fp: derivative. If your derivative function is fp, you give me its name. For\n",
       "  example fp=foobar tells me that foobar is your function for the derivative.\n",
       "  The default is a forward difference Jacobian that I provide.\n",
       "\n",
       "  Keyword Arguments:\n",
       "\n",
       "  rtol, atol: real and absolute error tolerances\n",
       "\n",
       "  maxit: upper bound on number of nonlinear iterations. This is coupled to\n",
       "  delta0. If your choice of delta0 is too small (conservative) then you'll\n",
       "  need many iterations to converge and will need a larger value of maxit.\n",
       "\n",
       "  delta0: initial pseudo time step. The default value of 1.e-3 is a bit\n",
       "  conservative and is one option you really should play with. Look at the\n",
       "  example where I set it to 1.0!\n",
       "\n",
       "  dx: default = 1.e-7\n",
       "\n",
       "  difference increment in finite-difference derivatives h=dx*norm(x)+1.e-6\n",
       "\n",
       "  pdata:\n",
       "\n",
       "  precomputed data for the function/derivative. Things will go better if you\n",
       "  use this rather than hide the data in global variables within the module for\n",
       "  your function/derivative If you use this option your function and derivative\n",
       "  must take pdata as a second argument. eg f(x,pdata) and fp(x,pdata)\n",
       "\n",
       "  printerr: default = true\n",
       "\n",
       "  I print a helpful message when the solver fails. To suppress that message\n",
       "  set printerr to false.\n",
       "\n",
       "  keepsolhist: if true you get the history of the iteration in the output\n",
       "  tuple. This is on by default for scalar equations and off for systems. Only\n",
       "  turn it on if you have use for the data, which can get REALLY LARGE.\n",
       "\n",
       "  Output: A tuple (solution, functionval, history, idid, errcode, solhist)\n",
       "  where history is the array of absolute function values |f(x)| of residual\n",
       "  norms and time steps. Unless something has gone badly wrong, delta approx\n",
       "  |f(x_0)|/|f(x)|.\n",
       "\n",
       "  idid=true if the iteration succeeded and false if not.\n",
       "\n",
       "  errcode = 0 if if the iteration succeeded = -1 if the initial iterate\n",
       "  satisfies the termination criteria = 10 if no convergence after maxit\n",
       "  iterations\n",
       "\n",
       "  solhist=entire history of the iteration if keepsolhist=true\n",
       "\n",
       "  ptcsolsc builds solhist with a function from the Tools directory. For\n",
       "  systems, solhist is an N x K array where N is the length of x and K is the\n",
       "  number of iteration + 1. So, for scalar equations (N=1), solhist is a row\n",
       "  vector. Hence I use [ptcout.solhist' ptcout.history] in the example below.\n",
       "\n",
       "  If the iteration fails it's time to play with the tolerances, delta0, and\n",
       "  maxit. You are certain to fail if there is no stable solution to the\n",
       "  equation.\n",
       "\n",
       "\u001b[1m  Examples for ptcsolsc\u001b[22m\n",
       "\u001b[1m  –––––––––––––––––––––\u001b[22m\n",
       "\n",
       "\u001b[36m  julia> ptcout=ptcsolsc(sptest,.2;delta0=2.0,rtol=1.e-3,atol=1.e-3);\u001b[39m\n",
       "\u001b[36m  \u001b[39m\n",
       "\u001b[36m  julia> [ptcout.solhist' ptcout.history]\u001b[39m\n",
       "\u001b[36m  7×2 Array{Float64,2}:\u001b[39m\n",
       "\u001b[36m   2.00000e-01  9.20000e-02\u001b[39m\n",
       "\u001b[36m   9.66666e-01  4.19962e-01\u001b[39m\n",
       "\u001b[36m   8.75086e-01  2.32577e-01\u001b[39m\n",
       "\u001b[36m   7.99114e-01  1.10743e-01\u001b[39m\n",
       "\u001b[36m   7.44225e-01  4.00926e-02\u001b[39m\n",
       "\u001b[36m   7.15163e-01  8.19395e-03\u001b[39m\n",
       "\u001b[36m   7.07568e-01  4.61523e-04\u001b[39m"
      ]
     },
     "execution_count": 16,
     "metadata": {},
     "output_type": "execute_result"
    }
   ],
   "source": [
    "?ptcsolsc"
   ]
  },
  {
   "cell_type": "markdown",
   "metadata": {},
   "source": [
    "The example $sptest(x) = x^3 - .5 x$ is in the TestProblems submodule. The file is \n",
    "\n",
    "SIAMFANLEquations.jl/src/TestProblems/Scalars/spitchfork.jl\n",
    "\n",
    "That file contains four functions. The ones of interest here are __sptest__ and its derivative __sptestp__. We will illustrate how __ptcsolsc__ works by looking at the effects of larger values of $\\delta_0$. Using $\\delta_0 = \\infty$ is Newton's method and you'll get convergence to $x^*=0$, the unstable solution if you do that. We will test a few values of $\\delta_0$ and plot the solution histories. As you can see, even a large value of $\\delta_0$ will keep the iteration away from the unstable branch, but convergence to the stable branch will take a very long time. The iteration fails for two of the runs because the maximum iteration count limit was hit. The iterations for $\\delta_0 = 1$ and $\\delta_0 = 10$ do converge to the stable\n",
    "solution within the 200 iterations I gave the solver. You are welcome to increase the iteration limit and see how painful it can be.\n",
    "\n",
    "We have a utility __plothist.jl__ in src/Tools in the Notebook repository. \n",
    "That utility plots histories like this. We use __plothist.jl__ to plot the solution $x$ in this case so we can\n",
    "observe the convergence to $x^*=\\sqrt{1/2}$.\n"
   ]
  },
  {
   "cell_type": "code",
   "execution_count": 17,
   "metadata": {},
   "outputs": [
    {
     "name": "stdout",
     "output_type": "stream",
     "text": [
      "PTC failure; increase maxit and/or delta0\n",
      "Residual norm =  9.13545e-02\n",
      "Current values: maxit  =  200,  delta0 = 1.00000e-02\n",
      "Give the history array a look to see what's happening.\n",
      "  \n",
      "PTC failure; increase maxit and/or delta0\n",
      "Residual norm =  5.35783e-02\n",
      "Current values: maxit  =  200,  delta0 = 1.00000e-03\n",
      "Give the history array a look to see what's happening.\n",
      "  \n"
     ]
    },
    {
     "data": {
      "image/png": "[encoded data removed]",
      "text/plain": [
       "Figure(PyObject <Figure size 640x480 with 1 Axes>)"
      ]
     },
     "metadata": {},
     "output_type": "display_data"
    },
    {
     "data": {
      "text/plain": [
       "PyObject Text(0.5, 1.0, 'Figure 1.11 in print book')"
      ]
     },
     "execution_count": 17,
     "metadata": {},
     "output_type": "execute_result"
    }
   ],
   "source": [
    "## Set up the problem\n",
    "x0=.1\n",
    "ustable=.5*sqrt(2.0)\n",
    "uunstable=0.0\n",
    "## for a few curated values of delta0\n",
    "dtlist=[1.0, 1.e1, 1.e2, 1.e4]\n",
    "## and collect the results.\n",
    "outdata=[]\n",
    "for id=1:4\n",
    "   dti=10.0^(1-id)\n",
    "   ptcdata1=ptcsolsc(sptest,x0; \n",
    "        delta0=dti, rtol=1.e-6, maxit=200)\n",
    "   push!(outdata,ptcdata1.solhist')\n",
    "end\n",
    "## Get some labels for the plots.\n",
    "labels=[\n",
    "L\"$\\delta_0 = 1.0$\",\n",
    "L\"$\\delta_0 = 10$\",\n",
    "L\"$\\delta_0 = 10^{2}$\",\n",
    "L\"$\\delta_0 = 10^{4}$\"\n",
    "]\n",
    "## Make the figure.\n",
    "plothist(outdata,labels,\"solution\");\n",
    "title(\"Figure 1.11 in print book\")\n"
   ]
  },
  {
   "cell_type": "markdown",
   "metadata": {},
   "source": [
    "The message so far is that if $\\delta_0$ is either too small or too large, convergence will suffer and that too small is better than too large. One reason for this is the theoretical result that you will converge to the steady-state solution you want, namely $\\vx^* = \\lim_{t \\to \\infty} \\vx(t)$ if $\\delta_0$ is sufficiently small.\n",
    "\n",
    "If $\\delta_0$ is too large, the results can be inconsistent. In the example above, the two convergent iterations found the correct steady state solution $x^* = \\sqrt{1/2}$. However ..."
   ]
  },
  {
   "cell_type": "code",
   "execution_count": 18,
   "metadata": {},
   "outputs": [
    {
     "data": {
      "text/plain": [
       "8×2 Matrix{Float64}:\n",
       "  1.00000e-01  4.90000e-02\n",
       " -2.58537e-01  1.11987e-01\n",
       " -5.00754e-01  1.24811e-01\n",
       " -6.14083e-01  7.54723e-02\n",
       " -6.80014e-01  2.55555e-02\n",
       " -7.04098e-01  2.98965e-03\n",
       " -7.07065e-01  4.17213e-05\n",
       " -7.07107e-01  8.13958e-09"
      ]
     },
     "execution_count": 18,
     "metadata": {},
     "output_type": "execute_result"
    }
   ],
   "source": [
    "ptcoutwrong=ptcsolsc(sptest,x0; delta0=3.0);\n",
    "[ptcoutwrong.solhist' ptcoutwrong.history]"
   ]
  },
  {
   "cell_type": "markdown",
   "metadata": {},
   "source": [
    "That's something to think about, isn't it? Note that the residual norm __increased__ on its way to the wrong steady-state (wrong means that it is not $\\lim_{t \\to \\infty} x(t)$).\n",
    "\n",
    "There's one more thing to say about the sptest example. It is a special case ($\\lambda = 1/2$) of \n",
    "$$\n",
    "f(x,\\lambda) = x^3 - \\lambda x.\n",
    "$$\n",
    "If we plot __all__ the solutions of $f(x,\\lambda) = 0$ we get a __bifurcation diagram__. The solution sets are\n",
    "the line $x=0$ and the parabola $\\lambda = x^2$. Remember that $x=0$ is stable for $\\lambda < 0$ and unstable for\n",
    "$\\lambda > 0$. We will label the stable and unstable branches in the diagram. "
   ]
  },
  {
   "cell_type": "code",
   "execution_count": 19,
   "metadata": {},
   "outputs": [
    {
     "data": {
      "image/png": "[encoded data removed]",
      "text/plain": [
       "Figure(PyObject <Figure size 640x480 with 1 Axes>)"
      ]
     },
     "metadata": {},
     "output_type": "display_data"
    }
   ],
   "source": [
    "PitchFork1();"
   ]
  },
  {
   "cell_type": "markdown",
   "metadata": {},
   "source": [
    "Moving from the left you see that at $\\lambda = 0$ the stable solution __bifurcates__ into two stable branches. The implicit function theorem\n",
    "<cite data-cite=\"herb\"><a href=\"siamfa.html#herb\">(Kel87)</cite>\n",
    "says that this can only happen if $\\partial f(0,0)/\\partial x = 0$. This kind of singularity is called, for obvious reasons, a __pitchfork bifurcation__\n",
    "<cite data-cite=\"govaerts\"><a href=\"siamfa.html#govaerts\">(Gov00)</cite>\n",
    "<cite data-cite=\"herb\"><a href=\"siamfa.html#herb\">(Kel87)</cite>.\n",
    "We will see a more interesting example in the subsequent chapters."
   ]
  },
  {
   "cell_type": "markdown",
   "metadata": {},
   "source": [
    "## Section 1.11 Projects"
   ]
  },
  {
   "cell_type": "markdown",
   "metadata": {},
   "source": [
    "###  Estimating the q-order\n",
    "\n",
    "\n",
    "One can examine the data in the history vector to estimate the q-order in the following way. \n",
    "If $\\vx_n \\to \\vx^*$ with q-order $p$, then one might hope that\n",
    "$$\n",
    "\\| \\mf(\\vx_{n+1}) \\| \\approx K \\| \\mf(\\vx_n) \\|^p\n",
    "$$\n",
    "for some $K > 0$. If that happens, then, as $n \\to \\infty$,\n",
    "$$\n",
    "\\log (\\| \\mf(\\vx_{n+1}) \\|) \\approx p \\log(\\| \\mf(\\vx_n) \\|)\n",
    "$$\n",
    "and so\n",
    "$$\n",
    "p \\approx \\frac{\\log (\\| \\mf(\\vx_{n+1}) \\|)}{\\log(\\| \\mf(\\vx_n) \\|)}.\n",
    "$$\n",
    "Hence, by looking at the history array, we can estimate $p$.\n",
    "\n",
    "Here are a few examples for Newton's method. We'll look at $f(x) = cos(x)-x$ from the MyFunction module and $f(x) = atan(x)$  and examine the logs of the residuals.\n"
   ]
  },
  {
   "cell_type": "code",
   "execution_count": 20,
   "metadata": {},
   "outputs": [
    {
     "data": {
      "text/plain": [
       "4-element Vector{Float64}:\n",
       " 1.07643e+01\n",
       " 3.91318e+00\n",
       " 2.43526e+00\n",
       " 2.17677e+00"
      ]
     },
     "execution_count": 20,
     "metadata": {},
     "output_type": "execute_result"
    }
   ],
   "source": [
    "myfunout=nsolsc(myfun,0.1)\n",
    "loghist=log.(myfunout.history)\n",
    "nn=length(loghist)\n",
    "qest=loghist[2:nn]./loghist[1:nn-1]"
   ]
  },
  {
   "cell_type": "markdown",
   "metadata": {},
   "source": [
    "This is pretty good. Since the iteration should be quadratically convergent, we would expect the sequence to converge to 2. We are not aiming for high-precision results here and should be happy.\n",
    "\n",
    "And now for $f(x)=atan(x)$ ..."
   ]
  },
  {
   "cell_type": "code",
   "execution_count": 21,
   "metadata": {},
   "outputs": [
    {
     "data": {
      "text/plain": [
       "4-element Vector{Float64}:\n",
       " 2.71765e+00\n",
       " 3.27699e+00\n",
       " 3.18343e+00\n",
       " 3.05923e+00"
      ]
     },
     "execution_count": 21,
     "metadata": {},
     "output_type": "execute_result"
    }
   ],
   "source": [
    "tanout=nsolsc(atan,1.0)\n",
    "loghist=log.(tanout.history)\n",
    "nn=length(loghist)\n",
    "qest=loghist[2:nn]./loghist[1:nn-1]"
   ]
  },
  {
   "cell_type": "markdown",
   "metadata": {},
   "source": [
    "Wait a minute! What happened to the q-order of 2? In fact, the q-order for this problem is 3! Can you figure out why?"
   ]
  },
  {
   "cell_type": "markdown",
   "metadata": {},
   "source": [
    "Your job is to ...\n",
    "\n",
    "- Apply this idea for the Newton, Shamanskii, secant, and chord methods for the example problems in this chapter.\n",
    "- Try it for $\\sin(x) = 0$ with an initial iterate of $x_0 = 3$. \n",
    "\n",
    "Are the estimated q-orders\n",
    "consistent with the theory? Can you explain the q-orders that\n",
    "you observe. "
   ]
  },
  {
   "cell_type": "markdown",
   "metadata": {},
   "source": [
    "### Singular Problems"
   ]
  },
  {
   "cell_type": "markdown",
   "metadata": {},
   "source": [
    "Solve $f(x) = x^2 = 0$ with Newton's method, the chord method,\n",
    "and the secant method. Use $x_0 = 1$ for the initial iterate.\n",
    "Try the alternative iteration\n",
    "$$\n",
    "x_{n+1} = x_n - 2 f'(x_n)^{-1} f(x_n).\n",
    "$$\n",
    "Look at the history vectors from the two cases. Can you explain your observations?"
   ]
  },
  {
   "cell_type": "markdown",
   "metadata": {},
   "source": [
    "### Non-Lipschitz derivative\n",
    "\n",
    "Solve $f(x) = 0$ where $f(x) = x + |x|^{3/2}$ with Newton's method. What is a reasonable initial iterate?\n",
    "Do you see q-superlinear convergence? Explain your results and then look at\n",
    "<cite data-cite=\"herbholder\"><a href=\"siamfa.html#herbholder\">(Kel70)</cite>\n",
    "to see if you got it right."
   ]
  },
  {
   "cell_type": "markdown",
   "metadata": {},
   "source": [
    "### A Test Drive\n",
    "\n",
    "A numerical analyst buys a German sports car for \\\\$50,000. He\n",
    "puts \\\\$10,000 down and takes a 7 year installment loan\n",
    "to pay the balance. If the monthly payments are \\\\$713.40, what is the\n",
    "interest rate? Assume monthly compounding."
   ]
  },
  {
   "cell_type": "markdown",
   "metadata": {},
   "source": [
    "## Next notebook = [Chapter 2: Finding the Newton Step with Gaussian Elimination](SIAMFANLCh2.ipynb)"
   ]
  }
 ],
 "metadata": {
  "kernelspec": {
   "display_name": "Julia 1.11.6",
   "language": "julia",
   "name": "julia-1.11"
  },
  "language_info": {
   "file_extension": ".jl",
   "mimetype": "application/julia",
   "name": "julia",
   "version": "1.11.6"
  }
 },
 "nbformat": 4,
 "nbformat_minor": 4
}
