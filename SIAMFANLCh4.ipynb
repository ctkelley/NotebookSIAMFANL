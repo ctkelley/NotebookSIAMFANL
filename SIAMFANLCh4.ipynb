{
 "cells": [
  {
   "cell_type": "markdown",
   "metadata": {},
   "source": [
    "$\\newcommand{\\calf}{{\\cal F}}\n",
    "\\newcommand{\\calk}{{\\cal K}}\n",
    "\\newcommand{\\calp}{{\\cal P}}\n",
    "\\newcommand{\\dnu}{d \\nu}\n",
    "\\newcommand{\\mf}{{\\bf F}}\n",
    "\\newcommand{\\md}{{\\bf D}}\n",
    "\\newcommand{\\mP}{{\\bf P}}\n",
    "\\newcommand{\\mU}{{\\bf U}}\n",
    "\\newcommand{\\vu}{{\\bf u}}\n",
    "\\newcommand{\\vx}{{\\bf x}}\n",
    "\\newcommand{\\vw}{{\\bf w}}\n",
    "\\newcommand{\\vy}{{\\bf y}}\n",
    "\\newcommand{\\vf}{{\\bf f}}\n",
    "\\newcommand{\\vs}{{\\bf s}}\n",
    "\\newcommand{\\ve}{{\\bf e}}\n",
    "\\newcommand{\\vd}{{\\bf d}}\n",
    "\\newcommand{\\vb}{{\\bf b}}\n",
    "\\newcommand{\\vg}{{\\bf g}}\n",
    "\\newcommand{\\vz}{{\\bf z}}\n",
    "\\newcommand{\\vr}{{\\bf r}}\n",
    "\\newcommand{\\mg}{{\\bf G}}\n",
    "\\newcommand{\\ml}{{\\bf L}}\n",
    "\\newcommand{\\mg}{{\\bf G}}\n",
    "\\newcommand{\\mv}{{\\bf V}}\n",
    "\\newcommand{\\ma}{{\\bf A}}\n",
    "\\newcommand{\\mi}{{\\bf I}}\n",
    "\\newcommand{\\mm}{{\\bf M}}\n",
    "\\newcommand{\\mb}{{\\bf B}}\n",
    "\\newcommand{\\ball}{{\\cal B}}\n",
    "\\newcommand{\\ptc}{{\\Psi TC}}\n",
    "\\newcommand{\\diag}{\\mbox{diag}}\n",
    "\\newcommand{\\begeq}{{\\begin{equation}}}\n",
    "\\newcommand{\\endeq}{{\\end{equation}}}\n",
    "$"
   ]
  },
  {
   "cell_type": "code",
   "execution_count": 1,
   "metadata": {},
   "outputs": [],
   "source": [
    "include(\"fanote_init.jl\")"
   ]
  },
  {
   "cell_type": "markdown",
   "metadata": {},
   "source": [
    "# Chapter 4: Fixed Point Problems and Anderson Acceleration\n",
    "\n",
    "## Contents for Chapter 4\n",
    "\n",
    "\n"
   ]
  },
  {
   "cell_type": "markdown",
   "metadata": {},
   "source": [
    "[Section 4.1: Fixed Point Problems](#Section-4.1:-Fixed-Point-Problems)\n",
    "\n",
    "[Section 4.2: Anderson Acceleration](#Section-4.2:-Anderson-Acceleration)\n",
    "\n",
    "[Section 4.3: Convergence Theory](#Section-4.3:-Convergence-Theory)\n",
    "\n",
    "[Section 4.4: Two Examples](#Section-4.4:-Two-Examples)\n",
    "\n",
    "[Section 4.5: Anderson Acceleration Solver](SIAMFANLCh4s.ipynb)"
   ]
  },
  {
   "cell_type": "markdown",
   "metadata": {},
   "source": [
    "## Section 4.1: Fixed Point Problems\n",
    "\n",
    "In this chapter we focus on fixed point problems\n",
    "$$\n",
    "\\vx = \\mg(\\vx).\n",
    "$$\n",
    "While one might thing that there is little difference between fixed point\n",
    "problems and nonlinear equations $\\mf(\\vx) = 0$, that would be wrong\n",
    "<cite data-cite=\"nixon\"><a href=\"siamfa.html#nixon\">(Nix72)</cite>.\n",
    "\n",
    "While simply replacing $\\mf(\\vx)$ with $\\mg(\\vx) - \\vx$\n",
    "and applying a form of Newton's method is reasonable in most cases,\n",
    "that approach can miss important structural properties of $\\mg$ and\n",
    "requires computing a Jacobian or Jacobian-vector product, which is\n",
    "not always possible. Conversely, applying a fixed point method to\n",
    "a nonlinear equation with the transformation\n",
    "$\\mg(\\vx) = \\vx + \\mf(\\vx)$ can often lead to failure, even in the linear\n",
    "case. Having said that, there are problems, such as the H-equation\n",
    "from [Chapter 2](SIAMFANLCh2.ipynb)\n",
    " that can be expressed equally well\n",
    "as nonlinear equations or fixed point problems.\n",
    "\n",
    "The fundamental method for solving fixed point problems is\n",
    "Picard or fixed point iteration\n",
    "$$\n",
    "\\vx_{n+1} = \\mg(\\vx_n).\n",
    "$$\n",
    "\n",
    "Throughout this chapter we will assume that $\\mg$ is a contraction on\n",
    "a set $D \\subset R^N$. This means that there is $c \\in (0,1)$ such that\n",
    "$$\n",
    "\\| \\mg(\\vx) - \\mg(\\vy) \\| \\le c \\| \\vx - \\vy \\|\n",
    "$$\n",
    "for all $\\vx, \\vy \\in D$. We will call $c$ the\n",
    "__contractivity constant__.\n",
    "\n",
    "The\n",
    "__Contraction Mapping Theorem__\n",
    " is\n",
    "\n",
    "___\n",
    "__Theorem 4.1__\n",
    "If $\\mg$ is a contraction on $D \\in R^N$ then there is a unique\n",
    "solution $\\vx^* \\in D$ of \\eqnok{fix} and for any $\\vx_0 \\in D$,\n",
    "the iteration \\eqnok{picard} converges to $\\vx^*$. Moreover\n",
    "the convergence is q-linear\n",
    "$$\n",
    "\\| \\ve_{n+1} \\| \\le c \\| \\ve_n \\|.\n",
    "$$\n",
    "___\n",
    "\n",
    "As in the previous chapters, $\\ve = \\vx - \\vx^*$.\n",
    "\n",
    "We remind the reader that the uniqueness in __Theorem 4.1__\n",
    "means that $\\vx^*$ is the only solution in $D$. If $\\mg$ is\n",
    "nonlinear, there could well be other fixed points outside of $D$.\n",
    "\n",
    "Note that the theorem does not specify the norm $\\| \\cdot \\|$. In fact\n",
    "if $\\mg$ is a contraction in any norm, the iteration will converge. One\n",
    "does not have to know what that norm is, as the linear case illustrates.\n",
    "If you measure convergence in a norm other than the one in which $\\mg$ is\n",
    "a contraction, you will still observe convergence, but not necessarily\n",
    "q-linear convergence. At worst you will see\n",
    "__r-linear convergence__\n",
    "\n",
    "$$\n",
    "\\| \\ve_n \\| = O( c^n )\n",
    "$$\n",
    "or, equivalently\n",
    "$$\n",
    "\\limsup_{n \\to \\infty}\n",
    "\\left( \\frac{\\| \\ve_n \\|}{\\| \\ve_0 \\|} \\right)^{1/n} \\le c.\n",
    "$$\n",
    "    \n",
    "It's worthwhile to consider the case of linear equations\n",
    "$$\n",
    "\\ma \\vx = \\vb\n",
    "$$\n",
    "and linear fixed point problems\n",
    "$$\n",
    "\\vx = \\mm \\vx + \\vb.\n",
    "$$\n",
    "In the case of linear fixed point problems, contractivity of\n",
    "$\\mb(\\vx) = \\mm \\vx + \\vb$ means that $\\| \\mm \\| < 1$ in some\n",
    "operator norm, equivalently $\\rho(\\mm) < 1$. Here $\\rho$ is\n",
    "the\n",
    "__spectral radius__\n",
    "$$\n",
    "\\rho(\\mm) = \\max_{\\lambda \\in \\sigma(\\mm)} | \\lambda |\n",
    "$$\n",
    "and $\\sigma(\\mm)$ is the set of eigenvalues of $\\mm$.\n",
    "This is the __Banach Lemma__\n",
    "\n",
    "___\n",
    "__Lemma 4.2__\n",
    "Suppose $\\| \\mm \\| < 1$. Then for any $\\vx_0 \\in R^N$ the iteration\n",
    "$$\n",
    "\\vx_{n+1} = \\mm \\vx_n + \\vb\n",
    "$$\n",
    "converges to $\\vx^* = (\\mi - \\mm)^{-1} \\vb$. Moreover\n",
    "$$\n",
    "\\| \\ve_{n+1} \\| \\le \\| \\mm \\| \\| \\ve_{n} \\|.\n",
    "$$\n",
    "___\n",
    "\n",
    "The Banach lemma differs from the Contraction Mapping theorem in that\n",
    "the map $\\mg(\\vx) = \\mm \\vx + \\vb$ is a contraction everywhere\n",
    "(so $D = R^N$) if\n",
    "$\\| \\mm \\| < 1$. The Contraction Mapping theorem for nonlinear problems\n",
    "is local in the sense that the domain $D$ is part of the assumptions.\n",
    "Similarly to Newton's method, we can connect contractivity to\n",
    "the Jacobian.\n",
    "\n",
    "___\n",
    "__Corollary 4.3__\n",
    "Suppose $\\mg$ is continuously differentiable near a fixed point\n",
    "$\\vx^* = \\mb(\\vx^*)$ and that\n",
    "$$\n",
    "\\| \\mg'(\\vx^*) \\| < 1.\n",
    "$$\n",
    "Then there is $\\delta > 0$ such that $\\mg$ is a contraction in the\n",
    "set\n",
    "$$\n",
    "D = \\{ \\vx \\, | \\, \\| \\vx - \\vx^* \\| < \\delta \\},\n",
    "$$\n",
    "with contractivity constant\n",
    "$$\n",
    "c = \\| \\mg'(\\vx^*) \\| + O(\\delta).\n",
    "$$\n",
    "___\n"
   ]
  },
  {
   "cell_type": "markdown",
   "metadata": {},
   "source": [
    "### Section 4.1.1: Damping"
   ]
  },
  {
   "cell_type": "markdown",
   "metadata": {},
   "source": [
    "### Section 4.1.2: Mapping Nonlinear Equations to Fixed Point Problems"
   ]
  },
  {
   "cell_type": "markdown",
   "metadata": {},
   "source": [
    "### Section 4.1.3: Preconditioning Fixed Point Maps"
   ]
  },
  {
   "cell_type": "markdown",
   "metadata": {},
   "source": [
    "## Section 4.2: Anderson Acceleration"
   ]
  },
  {
   "cell_type": "markdown",
   "metadata": {},
   "source": [
    "![Alg4.1](Images/Alg4dot1.png)"
   ]
  },
  {
   "cell_type": "markdown",
   "metadata": {},
   "source": [
    "## Section 4.3: Convergence Theory"
   ]
  },
  {
   "cell_type": "markdown",
   "metadata": {},
   "source": [
    "## Section 4.4: Two Examples"
   ]
  },
  {
   "cell_type": "markdown",
   "metadata": {},
   "source": [
    "## Next notebook = [Section 4.5: Solver for Chapter 4](SIAMFANLCh4s.ipynb)"
   ]
  }
 ],
 "metadata": {
  "kernelspec": {
   "display_name": "Julia 1.6.0",
   "language": "julia",
   "name": "julia-1.6"
  },
  "language_info": {
   "file_extension": ".jl",
   "mimetype": "application/julia",
   "name": "julia",
   "version": "1.6.2"
  }
 },
 "nbformat": 4,
 "nbformat_minor": 4
}
